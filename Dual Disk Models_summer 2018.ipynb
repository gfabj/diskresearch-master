{
 "cells": [
  {
   "cell_type": "code",
   "execution_count": 2,
   "metadata": {
    "collapsed": true
   },
   "outputs": [],
   "source": [
    "import numpy as np\n",
    "import math\n",
    "import matplotlib\n",
    "import matplotlib.pyplot as plt\n",
    "%matplotlib inline\n",
    "from numpy import loadtxt\n",
    "from numpy import cos,sin,pi,arctan,arcsin"
   ]
  },
  {
   "cell_type": "code",
   "execution_count": 3,
   "metadata": {
    "collapsed": true
   },
   "outputs": [],
   "source": [
    "'''funtion to help find the equation of a line on a log scale'''\n",
    "\n",
    "def slope(dx, dy):\n",
    "    return (dy / dx) if dx else None\n",
    "\n",
    "class Point:\n",
    "    def __init__(self, x, y):\n",
    "        self.x = x\n",
    "        self.y = y\n",
    "\n",
    "    def __str__(self):\n",
    "        return '({}, {})'.format(self.x, self.y)\n",
    "\n",
    "    def __repr__(self):\n",
    "        return 'Point({}, {})'.format(self.x, self.y)\n",
    "\n",
    "    def halfway(self, target):\n",
    "        midx = (self.x + target.x) / 2\n",
    "        midy = (self.y + target.y) / 2\n",
    "        return Point(midx, midy)\n",
    "\n",
    "    def distance(self, target):\n",
    "        dx = target.x - self.x\n",
    "        dy = target.y - self.y\n",
    "        return (dx*dx + dy*dy) ** 0.5\n",
    "\n",
    "    def reflect_x(self):\n",
    "        return Point(-self.x,self.y)\n",
    "\n",
    "    def reflect_y(self):\n",
    "        return Point(self.x,-self.y)\n",
    "\n",
    "    def reflect_x_y(self):\n",
    "        return Point(-self.x, -self.y)\n",
    "\n",
    "    def slope_from_origin(self):\n",
    "        return slope(self.x, self.y)\n",
    "\n",
    "    def slope(self, target):\n",
    "        return slope(target.x - self.x, target.y - self.y)\n",
    "\n",
    "    def y_int(self, target):       # <= here's the magic\n",
    "        return self.y - self.slope(target)*self.x\n",
    "\n",
    "    def line_equation(self, target):\n",
    "        slope = self.slope(target)\n",
    "\n",
    "        y_int = self.y_int(target)\n",
    "        if y_int < 0:\n",
    "            y_int = -y_int\n",
    "            sign = '-'\n",
    "        else:\n",
    "            sign = '+'\n",
    "\n",
    "        return '{}x {} {}'.format(slope, sign, y_int)\n",
    "\n",
    "    def line_function(self, target):\n",
    "        slope = self.slope(target)\n",
    "        y_int = self.y_int(target)\n",
    "        def fn(x):\n",
    "            return slope*x + y_int\n",
    "        return fn"
   ]
  },
  {
   "cell_type": "code",
   "execution_count": 4,
   "metadata": {
    "collapsed": true
   },
   "outputs": [],
   "source": [
    "'''Constant Parameters'''\n",
    "\n",
    "#setting unit conversion values for distances\n",
    "pc=3.1*10**16 #[m] meter #pc in meters #(pc) parsec\n",
    "Rg=1.5*10**11 #[m] meter #rg in meters (for a BH of mass 10^8 Msun) #(rg) gravitational radius\n",
    "Rs=2*Rg #[m] meter #rs in meters (also simply 3*10**11) #(rs) schwarzschild radius\n",
    "\n",
    "#setting values of fundamental constants\n",
    "from math import e \n",
    "G=6.67*(10**-11) #[(m**3)/(kg*(s**2))] cubic meter per kilogram second squared #(G) gravitational constant\n",
    "M=(10**8)*1.99*(10**30) #[kg] kilogram #(M) mass of SMBH\n",
    "year=3.154*10**7 #[s] second #(year) seconds per year\n",
    "Cd=1 #[unit ?] #(Cd)\n",
    "cs=10**4 #[m/s] meter per second #(cs) speed of sound\n",
    "\n",
    "\n",
    "#setting paramenters of orbiting object\n",
    "msun=1.989*(10**30) #[kg] kilogram #(msun) mass of our sun\n",
    "rsun=6.957*(10**8) #[m] meter #(rsun) radius of our sun\n",
    "#ρsun=1410 #[kg/m^3] kilogram per cubic meter #(ρsun) density of our sun\n",
    "#Asun=4*pi*(rsun**2) #[m^2] meter squared #(Asun) area of our sun\n",
    "\n",
    "mmstar=0.5*msun #[kg] kilogram #(mmstar) mass of m star\n",
    "rmstar=0.4*rsun #[m] meter #(rmstar) radius of m star\n",
    "#ρmstar=8806 #[kg/m^3] kilogram per cubic meter #(ρmstar) density of m star\n",
    "\n",
    "mostar=50*msun #[kg] kilogram #(mostar) mass of o star\n",
    "rostar=15*rsun #[m] meter #(rostar) radius of o star\n",
    "#ρostar=27.8 #[kg/m^3] kilogram per cubic meter #(ρostar) density of o star\n",
    "\n",
    "mrgiant=1.5*msun #[kg] kilogram #(mrgiant) mass of red giant \n",
    "rrgiant=100* rsun #[m] meter #(rrgiant) radius of red giant\n",
    "#ρrgiant=2.81 #[kg/m^3] kilogram per cubic meter #(ρrgiant) density of red giant\n",
    "\n",
    "m_sBH=10*msun #[kg] kilogram #(m_sBH) mass of stellar mass black hole\n",
    "\n",
    "def Astar(rstar): #m^2\n",
    "    A=4*pi*(rstar**2)\n",
    "    return A\n",
    "def volstar(rstar): #m^3\n",
    "    vol=(4/3)*pi*(rstar**3)\n",
    "    return vol\n",
    "def ρstar(mstar,rstar):\n",
    "    den=mstar/volstar(rstar)\n",
    "    return den\n",
    "\n",
    "ρsun=ρstar(msun,rsun)\n",
    "ρmstar=ρstar(mmstar,rmstar)\n",
    "ρostar=ρstar(mostar,rostar)\n",
    "ρrgiant=ρstar(mrgiant,rrgiant)"
   ]
  },
  {
   "cell_type": "code",
   "execution_count": 5,
   "metadata": {
    "collapsed": false
   },
   "outputs": [
    {
     "ename": "OSError",
     "evalue": "JillianTQMdisk/a.txt not found.",
     "output_type": "error",
     "traceback": [
      "\u001b[0;31m---------------------------------------------------------------------------\u001b[0m",
      "\u001b[0;31mOSError\u001b[0m                                   Traceback (most recent call last)",
      "\u001b[0;32m<ipython-input-5-efed62f8bec1>\u001b[0m in \u001b[0;36m<module>\u001b[0;34m()\u001b[0m\n\u001b[1;32m     30\u001b[0m \u001b[0;31m#########################################################\u001b[0m\u001b[0;34m\u001b[0m\u001b[0;34m\u001b[0m\u001b[0m\n\u001b[1;32m     31\u001b[0m \u001b[0;31m#(a) distance from SMBH\u001b[0m\u001b[0;34m\u001b[0m\u001b[0;34m\u001b[0m\u001b[0m\n\u001b[0;32m---> 32\u001b[0;31m \u001b[0mapclog_TQM\u001b[0m\u001b[0;34m=\u001b[0m\u001b[0mloadtxt\u001b[0m\u001b[0;34m(\u001b[0m\u001b[0;34m\"JillianTQMdisk/a.txt\"\u001b[0m\u001b[0;34m)\u001b[0m \u001b[0;31m#raw data #compiled list of (a) values\u001b[0m\u001b[0;34m\u001b[0m\u001b[0m\n\u001b[0m\u001b[1;32m     33\u001b[0m \u001b[0mapc_TQM\u001b[0m\u001b[0;34m=\u001b[0m\u001b[0;34m(\u001b[0m\u001b[0;36m10\u001b[0m\u001b[0;34m**\u001b[0m\u001b[0mapclog_TQM\u001b[0m\u001b[0;34m)\u001b[0m \u001b[0;31m#[pc] parsec #unlogged data #(a) distance from SMBH\u001b[0m\u001b[0;34m\u001b[0m\u001b[0m\n\u001b[1;32m     34\u001b[0m \u001b[0mam_TQM\u001b[0m\u001b[0;34m=\u001b[0m\u001b[0mpc\u001b[0m\u001b[0;34m*\u001b[0m\u001b[0mapc_TQM\u001b[0m \u001b[0;31m#[m] meter #for calculations #(a) distance from SMBH\u001b[0m\u001b[0;34m\u001b[0m\u001b[0m\n",
      "\u001b[0;32m/Library/Frameworks/Python.framework/Versions/3.6/lib/python3.6/site-packages/numpy/lib/npyio.py\u001b[0m in \u001b[0;36mloadtxt\u001b[0;34m(fname, dtype, comments, delimiter, converters, skiprows, usecols, unpack, ndmin, encoding)\u001b[0m\n\u001b[1;32m    915\u001b[0m             \u001b[0mfname\u001b[0m \u001b[0;34m=\u001b[0m \u001b[0mstr\u001b[0m\u001b[0;34m(\u001b[0m\u001b[0mfname\u001b[0m\u001b[0;34m)\u001b[0m\u001b[0;34m\u001b[0m\u001b[0m\n\u001b[1;32m    916\u001b[0m         \u001b[0;32mif\u001b[0m \u001b[0m_is_string_like\u001b[0m\u001b[0;34m(\u001b[0m\u001b[0mfname\u001b[0m\u001b[0;34m)\u001b[0m\u001b[0;34m:\u001b[0m\u001b[0;34m\u001b[0m\u001b[0m\n\u001b[0;32m--> 917\u001b[0;31m             \u001b[0mfh\u001b[0m \u001b[0;34m=\u001b[0m \u001b[0mnp\u001b[0m\u001b[0;34m.\u001b[0m\u001b[0mlib\u001b[0m\u001b[0;34m.\u001b[0m\u001b[0m_datasource\u001b[0m\u001b[0;34m.\u001b[0m\u001b[0mopen\u001b[0m\u001b[0;34m(\u001b[0m\u001b[0mfname\u001b[0m\u001b[0;34m,\u001b[0m \u001b[0;34m'rt'\u001b[0m\u001b[0;34m,\u001b[0m \u001b[0mencoding\u001b[0m\u001b[0;34m=\u001b[0m\u001b[0mencoding\u001b[0m\u001b[0;34m)\u001b[0m\u001b[0;34m\u001b[0m\u001b[0m\n\u001b[0m\u001b[1;32m    918\u001b[0m             \u001b[0mfencoding\u001b[0m \u001b[0;34m=\u001b[0m \u001b[0mgetattr\u001b[0m\u001b[0;34m(\u001b[0m\u001b[0mfh\u001b[0m\u001b[0;34m,\u001b[0m \u001b[0;34m'encoding'\u001b[0m\u001b[0;34m,\u001b[0m \u001b[0;34m'latin1'\u001b[0m\u001b[0;34m)\u001b[0m\u001b[0;34m\u001b[0m\u001b[0m\n\u001b[1;32m    919\u001b[0m             \u001b[0mfh\u001b[0m \u001b[0;34m=\u001b[0m \u001b[0miter\u001b[0m\u001b[0;34m(\u001b[0m\u001b[0mfh\u001b[0m\u001b[0;34m)\u001b[0m\u001b[0;34m\u001b[0m\u001b[0m\n",
      "\u001b[0;32m/Library/Frameworks/Python.framework/Versions/3.6/lib/python3.6/site-packages/numpy/lib/_datasource.py\u001b[0m in \u001b[0;36mopen\u001b[0;34m(path, mode, destpath, encoding, newline)\u001b[0m\n\u001b[1;32m    258\u001b[0m \u001b[0;34m\u001b[0m\u001b[0m\n\u001b[1;32m    259\u001b[0m     \u001b[0mds\u001b[0m \u001b[0;34m=\u001b[0m \u001b[0mDataSource\u001b[0m\u001b[0;34m(\u001b[0m\u001b[0mdestpath\u001b[0m\u001b[0;34m)\u001b[0m\u001b[0;34m\u001b[0m\u001b[0m\n\u001b[0;32m--> 260\u001b[0;31m     \u001b[0;32mreturn\u001b[0m \u001b[0mds\u001b[0m\u001b[0;34m.\u001b[0m\u001b[0mopen\u001b[0m\u001b[0;34m(\u001b[0m\u001b[0mpath\u001b[0m\u001b[0;34m,\u001b[0m \u001b[0mmode\u001b[0m\u001b[0;34m,\u001b[0m \u001b[0mencoding\u001b[0m\u001b[0;34m=\u001b[0m\u001b[0mencoding\u001b[0m\u001b[0;34m,\u001b[0m \u001b[0mnewline\u001b[0m\u001b[0;34m=\u001b[0m\u001b[0mnewline\u001b[0m\u001b[0;34m)\u001b[0m\u001b[0;34m\u001b[0m\u001b[0m\n\u001b[0m\u001b[1;32m    261\u001b[0m \u001b[0;34m\u001b[0m\u001b[0m\n\u001b[1;32m    262\u001b[0m \u001b[0;34m\u001b[0m\u001b[0m\n",
      "\u001b[0;32m/Library/Frameworks/Python.framework/Versions/3.6/lib/python3.6/site-packages/numpy/lib/_datasource.py\u001b[0m in \u001b[0;36mopen\u001b[0;34m(self, path, mode, encoding, newline)\u001b[0m\n\u001b[1;32m    614\u001b[0m                                       encoding=encoding, newline=newline)\n\u001b[1;32m    615\u001b[0m         \u001b[0;32melse\u001b[0m\u001b[0;34m:\u001b[0m\u001b[0;34m\u001b[0m\u001b[0m\n\u001b[0;32m--> 616\u001b[0;31m             \u001b[0;32mraise\u001b[0m \u001b[0mIOError\u001b[0m\u001b[0;34m(\u001b[0m\u001b[0;34m\"%s not found.\"\u001b[0m \u001b[0;34m%\u001b[0m \u001b[0mpath\u001b[0m\u001b[0;34m)\u001b[0m\u001b[0;34m\u001b[0m\u001b[0m\n\u001b[0m\u001b[1;32m    617\u001b[0m \u001b[0;34m\u001b[0m\u001b[0m\n\u001b[1;32m    618\u001b[0m \u001b[0;34m\u001b[0m\u001b[0m\n",
      "\u001b[0;31mOSError\u001b[0m: JillianTQMdisk/a.txt not found."
     ]
    }
   ],
   "source": [
    "'''importing disk data for TQM model'''\n",
    "\n",
    "#importing data for logged (a,h/a)\n",
    "hoverr_TQM=loadtxt(\"JillianTQMdisk/hoverr.txt\") #raw data\n",
    "\n",
    "#(a) distance from SMBH\n",
    "hapc_TQM=(10**hoverr_TQM[:,0]) #[pc] parsec #unlogged data #(a) distance from SMBH\n",
    "ham_TQM=pc*hapc_TQM #[m] meter #for calculations #(a) distance from SMBH\n",
    "harg_TQM=ham_TQM/Rg #[rg] gravitational radius #for plotting #(a) distance from SMBH\n",
    "\n",
    "#(h/a) ratio of distances\n",
    "hovera_TQM=10**hoverr_TQM[:,1] #[unitless] #unlogged data #(h/a) ratio of distances\n",
    "\n",
    "#(h) disk thickness\n",
    "h_TQM=ham_TQM*hovera_TQM #[m] meter #calculating thickness #(h) disk thickness\n",
    "\n",
    "#########################################################\n",
    "\n",
    "#importing data for logged (a,σ)\n",
    "σden_TQM=loadtxt(\"JillianTQMdisk/SurfaceDensity.txt\") #raw data\n",
    "\n",
    "#(a) distance from SMBH\n",
    "σapc_TQM=(10**σden_TQM[:,0]) #[pc] parsec #unlogged data #(a) distance from SMBH\n",
    "σam_TQM=pc*σapc_TQM #[m] meter #for calculations #(a) distance from SMBH\n",
    "σarg_TQM=σam_TQM/Rg #[rg] gravitational radius #for plotting #(a) distance from SMBH\n",
    "\n",
    "#(σ) disk surface density\n",
    "σ_TQM=10**σden_TQM[:,1] #[g/(cm^2)] gram per centimeter squared #unlogged data #(σ) disk surface density\n",
    "\n",
    "#########################################################\n",
    "#(a) distance from SMBH\n",
    "apclog_TQM=loadtxt(\"JillianTQMdisk/a.txt\") #raw data #compiled list of (a) values\n",
    "apc_TQM=(10**apclog_TQM) #[pc] parsec #unlogged data #(a) distance from SMBH\n",
    "am_TQM=pc*apc_TQM #[m] meter #for calculations #(a) distance from SMBH\n",
    "arg_TQM=am_TQM/Rg #[rg] gravitational radius #for plotting #(a) distance from SMBH"
   ]
  },
  {
   "cell_type": "code",
   "execution_count": null,
   "metadata": {
    "collapsed": true
   },
   "outputs": [],
   "source": [
    "'''importing disk data for SG model'''\n",
    "\n",
    "#importing data for logged (a,h/a)\n",
    "hoverr_SG=loadtxt(\"JillianSGdisk/hoverr.txt\") #raw data\n",
    "\n",
    "#(a) distance from SMBH\n",
    "hars_SG=(10**hoverr_SG[:,0]) #[rs] schwarzschild radius #unlogged data #(a) distance from SMBH\n",
    "ham_SG=Rs*hars_SG #[m] meter #for calculations #(a) distance from SMBH\n",
    "harg_SG=ham_SG/Rg #[rg] gravitational radius #for plotting #(a) distance from SMBH\n",
    "\n",
    "#(h/a) ratio of distances\n",
    "hovera_SG=10**hoverr_SG[:,1] #[unitless] #unlogged #(h/a) ratio of distances\n",
    "\n",
    "#(h) disk thickness\n",
    "h_SG=ham_SG*hovera_SG #[m] meter #calculating thickness #(h) disk thickness\n",
    "\n",
    "#########################################################\n",
    "\n",
    "#importing data for logged (a,σ)\n",
    "σden_SG=loadtxt(\"JillianSGdisk/SurfaceDensity.txt\") #raw data\n",
    "\n",
    "#(a) distance from SMBH\n",
    "σars_SG=(10**σden_SG[:,0]) #[rs] schwarzschild radius #unlogged data #(a) distance from SMBH\n",
    "σam_SG=Rs*σars_SG #[m] meter #for calculations #(a) distance from SMBH\n",
    "σarg_SG=σam_SG/Rg #[rg] gravitational radius #for plotting #(a) distance from SMBH\n",
    "\n",
    "#(σ) disk surface density\n",
    "σ_SG=10**σden_SG[:,1] #[g/(cm^2)] gram per centimeter squared #unlogged data #(σ) disk surface density\n",
    "\n",
    "#########################################################\n",
    "#(a) distance from SMBH\n",
    "arslog_SG=loadtxt(\"JillianSGdisk/a.txt\") #raw data #compiled list of (a) values\n",
    "ars_SG=(10**arslog_SG)#[rs] schwarzschild radius #unlogged data #(a) distance from SMBH\n",
    "am_SG=Rs*ars_SG #[m] meter #for calculations #(a) distance from SMBH\n",
    "arg_SG=am_SG/Rg #[rg] gravitational radius #for plotting #(a) distance from SMBH"
   ]
  },
  {
   "cell_type": "code",
   "execution_count": null,
   "metadata": {
    "collapsed": true
   },
   "outputs": [],
   "source": [
    "# interpolating h as a function of radius\n",
    "#(h) interpolated disk thickness for TQM\n",
    "def hint_TQM(am):\n",
    "    a=am/Rg\n",
    "    for i in range(len(harg_TQM)-1):\n",
    "        j=i+1\n",
    "        c = Point(harg_TQM[i],h_TQM[i])\n",
    "        d = Point(harg_TQM[j],h_TQM[j])\n",
    "        if ((a>=harg_TQM[i]) and (a<=harg_TQM[j])):\n",
    "            y=(slope(harg_TQM[j]-harg_TQM[i],h_TQM[j]-h_TQM[i])*a)+(Point.y_int(c,d))\n",
    "    return y\n",
    "#(h) interpolated disk thickness for SG\n",
    "def hint_SG(am):\n",
    "    a=am/Rg\n",
    "    for i in range(len(harg_SG)-1):\n",
    "        j=i+1\n",
    "        c = Point(harg_SG[i],h_SG[i])\n",
    "        d = Point(harg_SG[j],h_SG[j])\n",
    "        c_36 = Point(harg_SG[36],h_SG[36])\n",
    "        d_37 = Point(harg_SG[37],h_SG[37])\n",
    "        if ((a>=harg_SG[i]) and (a<=harg_SG[j])):\n",
    "            y=(slope(harg_SG[j]-harg_SG[i],h_SG[j]-h_SG[i])*a)+(Point.y_int(c,d))\n",
    "        if ((a>harg_SG[37]) and (a<=σarg_SG[29])):\n",
    "            y=(slope(harg_SG[37]-harg_SG[36],h_SG[37]-h_SG[36])*a)+(Point.y_int(c_36,d_37))\n",
    "    return y\n",
    "\n",
    "# interpolating σ as a function of radius\n",
    "#(σ) interpolated disk surface density for TQM\n",
    "def σint_TQM(am):\n",
    "    a=am/Rg\n",
    "    for i in range(len(σarg_TQM)-1):\n",
    "        j=i+1\n",
    "        c = Point(σarg_TQM[i],σ_TQM[i])\n",
    "        d = Point(σarg_TQM[j],σ_TQM[j])\n",
    "        c_0 = Point(σarg_TQM[0],σ_TQM[0])\n",
    "        d_1 = Point(σarg_TQM[1],σ_TQM[1])\n",
    "        c_24 = Point(σarg_TQM[24],σ_TQM[24])\n",
    "        d_25 = Point(σarg_TQM[25],σ_TQM[25])\n",
    "        if ((a>=harg_TQM[0]) and (a<σarg_TQM[0])):\n",
    "            y=(slope(σarg_TQM[1]-σarg_TQM[0],σ_TQM[1]-σ_TQM[0])*a)+(Point.y_int(c_0,d_1))\n",
    "        if ((a>=σarg_TQM[i]) and (a<=σarg_TQM[j])):\n",
    "            y=(slope(σarg_TQM[j]-σarg_TQM[i],σ_TQM[j]-σ_TQM[i])*a)+(Point.y_int(c,d))\n",
    "        if ((a>σarg_TQM[25]) and (a<=harg_TQM[33])):\n",
    "            y=(slope(σarg_TQM[25]-σarg_TQM[24],σ_TQM[25]-σ_TQM[24])*a)+(Point.y_int(c_24,d_25))\n",
    "    return y\n",
    "#(σ) interpolated disk surface density for SG\n",
    "def σint_SG(am):\n",
    "    a=am/Rg\n",
    "    for i in range(len(σarg_SG)-1):\n",
    "        j=i+1\n",
    "        c = Point(σarg_SG[i],σ_SG[i])\n",
    "        d = Point(σarg_SG[j],σ_SG[j])\n",
    "        c_0 = Point(σarg_SG[0],σ_SG[0])\n",
    "        d_1 = Point(σarg_SG[1],σ_SG[1])\n",
    "        if ((a>=harg_SG[0]) and (a<σarg_SG[0])):\n",
    "            y=(slope(σarg_SG[1]-σarg_SG[0],σ_SG[1]-σ_SG[0])*a)+(Point.y_int(c_0,d_1))\n",
    "        if ((a>=σarg_SG[i]) and (a<=σarg_SG[j])):\n",
    "            y=(slope(σarg_SG[j]-σarg_SG[i],σ_SG[j]-σ_SG[i])*a)+(Point.y_int(c,d))\n",
    "    return y\n",
    "\n",
    "#(ρ) calculated disk surface density for TQM\n",
    "def ρ_TQM(am): #creating a density function ρ with respect to radius\n",
    "    ρcal=σint_TQM(am)/(hint_TQM(am)*100) #[g/(cm^3)] gram per cubic centimeter #converted h from [m] to [cm] #(ρcal) calculated density\n",
    "    ρconv=ρcal*(10**3) #[kg/(m^3)] kilogram per cubic meter #(ρconv) converted density\n",
    "    return ρconv\n",
    "#(ρ) calculated disk density for SG\n",
    "def ρ_SG(am): #creating a density function ρ with respect to radius\n",
    "    ρcal=σint_SG(am)/(hint_SG(am)*100) #[g/(cm^3)] gram per cubic centimeter #converted h from [m] to [cm] #(ρcal) calculated density\n",
    "    ρconv=ρcal*(10**3) #[kg/(m^3)] kilogram per cubic meter #(ρconv) converted density\n",
    "    return ρconv"
   ]
  },
  {
   "cell_type": "code",
   "execution_count": null,
   "metadata": {
    "collapsed": true
   },
   "outputs": [],
   "source": [
    "'''defining plotting functions, etc, for characteristics of each model'''\n",
    "'''Everything in the next three cells depends soley on the model'''\n",
    "\n",
    "#(a,h/a) \n",
    "#(h/a) ratio of distances plot function\n",
    "def hovera_plot(): \n",
    "    logPlot=plt.gca()\n",
    "    logPlot.loglog(harg_TQM,hovera_TQM, label='TQM',c='r')\n",
    "    logPlot.loglog(harg_SG,hovera_SG, label='SG',c='b')\n",
    "    plt.title('Height/Radius (h/a) vs Radius (a)')\n",
    "    logPlot.set_xlabel('Radius [Rg]')\n",
    "    logPlot.set_ylabel('Height/Radius [m/m]')\n",
    "    logPlot.legend()\n",
    "    ax = plt.subplot(111)\n",
    "    ax.legend(loc='center left', bbox_to_anchor=(1,0.9))\n",
    "    plt.savefig('1 Height_a vs a.pdf')\n",
    "    \n",
    "#(a,h)\n",
    "#(h) disk thickness plot function\n",
    "def h_plot(): \n",
    "    logPlot=plt.gca()\n",
    "    logPlot.loglog(harg_TQM,h_TQM,lw=2, label='TQM',c='r')\n",
    "    logPlot.loglog(harg_SG,h_SG,lw=2, label='SG',c='b')\n",
    "    plt.title('Height of Disk (h) vs Radius (a)')\n",
    "    logPlot.set_xlabel('Radius [Rg]')\n",
    "    logPlot.set_ylabel('Height [m]')\n",
    "    logPlot.legend()\n",
    "    ax = plt.subplot(111)\n",
    "    ax.legend(loc='center left', bbox_to_anchor=(1,0.9))\n",
    "    plt.savefig('2 Height vs a.pdf')\n",
    "\n",
    "#(a,h)\n",
    "#(h) interpolated disk thickness plot function\n",
    "def hint_plot(): # (a,h) & (a,hint) comparison\n",
    "    #creating a list of values for interpolated thickness hint\n",
    "    h_int_TQM=[]\n",
    "    for i in range(len(am_TQM)):\n",
    "        h_int_TQM.append(hint_TQM(am_TQM[i]))\n",
    "    h_int_SG=[]\n",
    "    for i in range(len(am_SG)):\n",
    "        h_int_SG.append(hint_SG(am_SG[i]))\n",
    "    logPlot=plt.gca()\n",
    "    logPlot.loglog(am_TQM/Rg,h_int_TQM,label='TQM interpolated',c='pink')\n",
    "    logPlot.loglog(am_SG/Rg,h_int_SG,label='SG interpolated',c='purple')\n",
    "    plt.title('Height of Disk (h) vs Radius (a)')\n",
    "    logPlot.set_xlabel('Radius [Rg]')\n",
    "    logPlot.set_ylabel('Height (interpolated) [m]')\n",
    "    logPlot.legend()\n",
    "    ax = plt.subplot(111)\n",
    "    ax.legend(loc='center left', bbox_to_anchor=(1,0.9))\n",
    "    plt.savefig('2a Height-interp vs a.pdf')\n",
    "\n",
    "#(a,σ)\n",
    "#(σ) disk surface density plot function\n",
    "def σ_plot(): \n",
    "    logPlot=plt.gca()\n",
    "    logPlot.loglog(σarg_TQM,σ_TQM, label='TQM',c='r')\n",
    "    logPlot.loglog(σarg_SG,σ_SG, label='SG',c='b')\n",
    "    plt.title('Surface Density of Disk vs a')\n",
    "    logPlot.set_xlabel('Radius [Rg]')\n",
    "    logPlot.set_ylabel('Surface Density [g/cm^2]')\n",
    "    logPlot.legend()\n",
    "    ax = plt.subplot(111)\n",
    "    ax.legend(loc='center left', bbox_to_anchor=(1,0.9))\n",
    "    plt.savefig('3 SurfaceDensity vs a.pdf')\n",
    "\n",
    "#(a,σ)\n",
    "#(σ) interpolated disk surface density plot function\n",
    "def σint_plot(): # (a,σ) & (a,σint) comparison\n",
    "    #creating lists of values for interpolated surface density σint\n",
    "    σdenint_TQM=[]\n",
    "    for i in range(len(am_TQM)):\n",
    "        σdenint_TQM.append(σint_TQM(am_TQM[i]))\n",
    "    σdenint_SG=[]\n",
    "    for i in range(len(am_SG)):\n",
    "        σdenint_SG.append(σint_SG(am_SG[i]))\n",
    "    logPlot=plt.gca()\n",
    "    logPlot.loglog(am_TQM/Rg,σdenint_TQM,label='TQM interpolated',c='pink')\n",
    "    logPlot.loglog(am_SG/Rg,σdenint_SG,label='SG interpolated',c='purple')\n",
    "    plt.title('Surface Density of Disk vs Radius (a)')\n",
    "    logPlot.set_xlabel('Radius [Rg]')\n",
    "    logPlot.set_ylabel('Surface Density (interpolated) [g/cm^2]')\n",
    "    logPlot.legend()\n",
    "    ax = plt.subplot(111)\n",
    "    ax.legend(loc='center left', bbox_to_anchor=(1,0.9))\n",
    "    plt.savefig('3a SurfaceDensity-interp vs a.pdf')\n",
    "\n",
    "#(a,ρ) \n",
    "#(ρ) disk density plot function\n",
    "def ρ_plot(): \n",
    "    #creating a list of values for (ρ) disk density\n",
    "    ρden_TQM=[]\n",
    "    for i in range(len(am_TQM)):\n",
    "        ρden_TQM.append(ρ_TQM(am_TQM[i]))\n",
    "    ρden_SG=[]\n",
    "    for i in range(len(am_SG)):\n",
    "        ρden_SG.append(ρ_SG(am_SG[i]))\n",
    "    logPlot=plt.gca()\n",
    "    logPlot.loglog(am_TQM/Rg,ρden_TQM,lw=2,label='TQM',c='r')\n",
    "    logPlot.loglog(am_SG/Rg,ρden_SG,lw=2,label='SG',c='b')\n",
    "    plt.title('Density of Disk (p) vs Radius (a)')\n",
    "    logPlot.set_xlabel('Radius [Rg]')\n",
    "    logPlot.set_ylabel('Density [kg/m^3]')\n",
    "    logPlot.legend()\n",
    "    ax = plt.subplot(111)\n",
    "    ax.legend(loc='center left', bbox_to_anchor=(1,0.9))\n",
    "    plt.savefig('4 Density vs a.pdf')"
   ]
  },
  {
   "cell_type": "code",
   "execution_count": null,
   "metadata": {
    "collapsed": false
   },
   "outputs": [],
   "source": [
    "'''(h/a) ratio of distances plot'''\n",
    "#[rg] gravitational radius #(a) distance from SMBH\n",
    "#[unitless] #(h/a) ratio of distances\n",
    "\n",
    "#hovera_plot()"
   ]
  },
  {
   "cell_type": "code",
   "execution_count": null,
   "metadata": {
    "collapsed": false
   },
   "outputs": [],
   "source": [
    "'''(h) disk thickness plots'''\n",
    "#[rg] gravitational radius #(a) distance from SMBH\n",
    "#[m] meter #(h) disk thickness\n",
    "\n",
    "#h_plot()\n",
    "#hint_plot()"
   ]
  },
  {
   "cell_type": "code",
   "execution_count": null,
   "metadata": {
    "collapsed": false
   },
   "outputs": [],
   "source": [
    "'''(σ) disk surface density plots'''\n",
    "#[rg] gravitational radius #(a) distance from SMBH\n",
    "#[g/(cm^2)] gram per centimeter squared #(σ) disk surface density\n",
    "\n",
    "#σ_plot()\n",
    "#σint_plot()"
   ]
  },
  {
   "cell_type": "code",
   "execution_count": null,
   "metadata": {
    "collapsed": false
   },
   "outputs": [],
   "source": [
    "'''(ρ) disk density plot'''\n",
    "#[rg] gravitational radius #(a) distance from SMBH\n",
    "#[kg/(m^3)] kilogram per cubic meter #(ρ) disk density\n",
    "\n",
    "#ρ_plot()"
   ]
  },
  {
   "cell_type": "code",
   "execution_count": null,
   "metadata": {
    "collapsed": true
   },
   "outputs": [],
   "source": [
    "'''The things in this cell are independent of the disk model / only depend on the position of the orbiting object'''\n",
    "\n",
    "def vel(am): #keplerian velocity v as function of radius #input a in meters\n",
    "    speed=((2*G*M/am)**0.5) #m/s\n",
    "    return speed\n",
    "def vel_plot(): # (a,vel) for i=0 (i.e. no inclination)\n",
    "    logPlot=plt.gca()\n",
    "    logPlot.loglog(harg,vel(ham)/1000,label='velocity; i=0')\n",
    "    plt.title('Keplerian Velocity (v) vs Radius (a)')\n",
    "    logPlot.set_xlabel('Radius [Rg]')\n",
    "    logPlot.set_ylabel('Keplerian Velocity [km/s]')\n",
    "    #logPlot.legend()\n",
    "    #ax = plt.subplot(111)\n",
    "    #ax.legend(loc='center left', bbox_to_anchor=(0.6,0.8))\n",
    "    plt.savefig('5 Keplerian velocity vs a.pdf')\n",
    "\n",
    "# keplarian velocity vel components\n",
    "def vkx(i,am):#m/s\n",
    "    kcomp=vel(am)*cos(i)\n",
    "    return kcomp\n",
    "def vky(i,am):#m/s\n",
    "    kcomp=vel(am)*sin(i)\n",
    "    return kcomp\n",
    "# relative velocity component-wise\n",
    "def vrx(i,am):#m/s\n",
    "    if i<=pi/2:\n",
    "        thetacomp=vel(am)-vkx(i,am)\n",
    "    if i>=pi/2:\n",
    "        thetacomp=vkx(i,am)-vel(am)\n",
    "    return thetacomp\n",
    "def vry(i,am):#m/s\n",
    "    rcomp=vky(i,am)\n",
    "    return rcomp\n",
    "\n",
    "def circ(am): #creating function for circumference as a fuction of radius\n",
    "    c=2*pi*am\n",
    "    return c #meters\n",
    "\n",
    "def Torb(am): #creating function for time of orbit Torb as function of radius #input radius in meters\n",
    "    torb=(circ(am))/(vel(am)) \n",
    "    return torb #units of seconds\n",
    "def Torb_plot(): # (a,Torb)\n",
    "    #31,557,600 s/yr\n",
    "    #a=10**4 -> Torb=100yr\n",
    "    logPlot=plt.gca()\n",
    "    logPlot.loglog(harg,Torb(ham),label='Torbit')\n",
    "    plt.title('Time per orbit (Torb) vs Radius (a)')\n",
    "    logPlot.set_xlabel('Radius [Rg]')\n",
    "    logPlot.set_ylabel('Time of orbit [s]')\n",
    "    #logPlot.legend()\n",
    "    #ax = plt.subplot(111)\n",
    "    #ax.legend(loc='center left', bbox_to_anchor=(1, 0.5))\n",
    "    plt.savefig('6 Time orb vs a.pdf')\n",
    "    \n",
    "def rBH(i,am): #r bondi\n",
    "    r=(2*G*m_sBH)/((vry(i,am)**2)+(cs**2))\n",
    "    return r\n",
    "r_sBH=rBH(pi/4,(10**4)*Rg)\n",
    "ρ_sBH=ρstar(m_sBH,r_sBH)"
   ]
  },
  {
   "cell_type": "code",
   "execution_count": null,
   "metadata": {
    "collapsed": true
   },
   "outputs": [],
   "source": [
    "'''Here things depend on both the position of the object, as well as the disk model'''\n",
    "\n",
    "def arc(i,am,hint): #creating function for arc length as function of i & radius\n",
    "    s=2*am*arcsin(hint(am)/(2*am*sin(i)))\n",
    "    return s #meters\n",
    "\n",
    "def Tdisk(i,am,hint): #creating function for time in disk Tdisk as function of i & a !!! CHECK THIS; i recall it being off by (an extra) factor of pi\n",
    "    #tdisk=(2*hint(arg)*Torb(am))/circ(am) #currently assumes fixed inclination angle=pi/2 #needs to be a func of i\n",
    "    t=(arc(i,am,hint)/circ(am))*Torb(am)\n",
    "    return t #seconds\n",
    "\n",
    "def Tratio(i,am,hint): #creating function for time ratio\n",
    "    ratio=Tdisk(i,am,hint)/Torb(am)\n",
    "    return ratio #unitless\n",
    "\n",
    "def Tdisk_plot(i): # (a,Tdisk)\n",
    "    #creating a list of values for Tdisk\n",
    "    Tdisk_TQM=[]\n",
    "    for j in range(len(am_TQM)):\n",
    "        Tdisk_TQM.append(Tdisk(i,am_TQM[j],hint_TQM))\n",
    "    Tdisk_SG=[]\n",
    "    for j in range(len(am_SG)):\n",
    "        Tdisk_SG.append(Tdisk(i,am_SG[j],hint_SG))\n",
    "    logPlot=plt.gca()\n",
    "    logPlot.loglog(harg_TQM,h_TQM,label='TQM Height of Disk',c='r')\n",
    "    logPlot.loglog(harg_SG,h_SG,label='SG Height of Disk',c='b')\n",
    "    logPlot.loglog(arg_TQM,Tdisk_TQM,lw=2,label='TQM Time in Disk',c='r')\n",
    "    logPlot.loglog(arg_SG,Tdisk_SG,lw=2,label='SG Time in Disk',c='b')\n",
    "    plt.title('Tdisk vs Radius (a)')\n",
    "    logPlot.set_xlabel('Radius [Rg]')\n",
    "    logPlot.set_ylabel('Tdisk [s]')\n",
    "    logPlot.legend()\n",
    "    ax = plt.subplot(111)\n",
    "    ax.legend(loc='center left', bbox_to_anchor=(1,0.9))\n",
    "    plt.savefig('7 Timedisk_Timeorb vs a.pdf')\n",
    "    \n",
    "def Tratio_plot(i): # (a,Tdisk/Torb)\n",
    "    #creating a list of values for Tratio\n",
    "    Tratio_TQM=[]\n",
    "    for j in range(len(am_TQM)):\n",
    "        Tratio_TQM.append(Tratio(i,am_TQM[j],hint_TQM))\n",
    "    Tratio_SG=[]\n",
    "    for j in range(len(am_SG)):\n",
    "        Tratio_SG.append(Tratio(i,am_SG[j],hint_SG))\n",
    "    logPlot=plt.gca()\n",
    "    logPlot.loglog(harg_TQM,hovera_TQM,label='TQM Distance Ratio (Height/Radius)',c='r')\n",
    "    logPlot.loglog(harg_SG,hovera_SG,label='SG Distance Ratio (Height/Radius)',c='b')\n",
    "    logPlot.loglog(arg_TQM,Tratio_TQM,lw=2,label='TQM Time Ratio (Tdisk/Torb)',c='r')\n",
    "    logPlot.loglog(arg_SG,Tratio_SG,lw=2,label='SG Time Ratio (Tdisk/Torb)',c='b')\n",
    "    plt.title('Tdisk/Torb vs Radius (a)')\n",
    "    logPlot.set_xlabel('Radius [Rg]')\n",
    "    logPlot.set_ylabel('Tdisk/Torbit [s/s]')\n",
    "    logPlot.legend()\n",
    "    ax = plt.subplot(111)\n",
    "    ax.legend(loc='center left', bbox_to_anchor=(1,0.9))\n",
    "    plt.savefig('7 Timedisk_Timeorb vs a.pdf')\n",
    "\n",
    "def imin(am,hint): #radians\n",
    "    i_min=arcsin(hint(am)/(2*am))\n",
    "    return i_min\n",
    "def imax(am,hint): #radians\n",
    "    i_max=pi-arcsin(hint(am)/(2*am))\n",
    "    return i_max\n",
    "def ivals(am,hint):\n",
    "    vals=np.linspace(imin(am,hint)+0.1,imax(am,hint),20)\n",
    "    prograde=np.linspace(imin(am,hint),pi/2,40)\n",
    "    return prograde"
   ]
  },
  {
   "cell_type": "code",
   "execution_count": null,
   "metadata": {
    "collapsed": true
   },
   "outputs": [],
   "source": [
    "#Tdisk_plot(pi/2)"
   ]
  },
  {
   "cell_type": "code",
   "execution_count": null,
   "metadata": {
    "collapsed": false
   },
   "outputs": [],
   "source": [
    "Tratio_plot(pi/2)"
   ]
  },
  {
   "cell_type": "code",
   "execution_count": null,
   "metadata": {
    "collapsed": true
   },
   "outputs": [],
   "source": [
    "'''Here things depend on the position of the object, its other properties(ie mass, rad, etc.), as well as the model'''\n",
    "\n",
    "# Energy of orbit Eorb\n",
    "def Eorb(am,mstar): #creating function for energy of orbit Eorb as function of radius #input radius in meters\n",
    "    eorb=(-G*M*mstar/(2*am))\n",
    "    return eorb #units of joules\n",
    "\n",
    "# Drag Force component-wise with some values in arrays\n",
    "def Fx(i,am,rstar,ρ):#N (kgm/s^2)\n",
    "    force=(Astar(rstar)*Cd/2)*ρ(am)*(vrx(i,am)**2)\n",
    "    return force\n",
    "def Fy(i,am,rstar,ρ):#N (kgm/s^2)\n",
    "    force=(Astar(rstar)*Cd/2)*ρ(am)*(vry(i,am)**2)\n",
    "    return force\n",
    "\n",
    "'''WORK'''\n",
    "def Wx(i,am,rstar,ρ,hint):\n",
    "    work=Fx(i,am,rstar,ρ)*(arc(i,am,hint)*cos(i))\n",
    "    return work\n",
    "def Wy(i,am,rstar,ρ,hint):\n",
    "    work=Fy(i,am,rstar,ρ)*(arc(i,am,hint)*sin(i))\n",
    "    return work\n",
    "def Worb(i,am,rstar,ρ,hint):\n",
    "    work=((Wx(i,am,rstar,ρ,hint)**2)+(Wy(i,am,rstar,ρ,hint)**2))**0.5\n",
    "    return work\n",
    "\n",
    "'''new Eorb'''\n",
    "def newEorb(i,am,mstar,rstar,ρ,hint): #creating function for energy of orbit Eorb as function of radius #input radius in meters\n",
    "    eorb=Eorb(am,mstar)-Worb(i,am,rstar,ρ,hint)\n",
    "    return eorb #units of joules\n",
    "\n",
    "'''new a'''\n",
    "def a_new(i,am,mstar,rstar,ρ,hint):\n",
    "    radius=(-G*M*mstar)/(2*newEorb(i,am,mstar,rstar,ρ,hint)) #meters\n",
    "    #print(\"initial_a =\",am)\n",
    "    #print(\"E orbit   =\",Eorb(am,mstar))\n",
    "    #print(\"W orbit.  =\",Worb(i,am,rstar,ρ,hint))\n",
    "    #print(\"new E Orb =\",newEorb(i,am,mstar,rstar,ρ,hint))\n",
    "    return radius\n",
    "\n",
    "def dvy(i,am,rstar,mstar,ρ,hint): #m/s\n",
    "    change=Fy(i,am,rstar,ρ)*Tdisk(i,am,hint)/mstar\n",
    "    return change\n",
    "def dvx(i,am,rstar,mstar,ρ,hint): #m/s\n",
    "    change=Fx(i,am,rstar,ρ)*Tdisk(i,am,hint)/mstar\n",
    "    return change\n",
    "\n",
    "def vkx_new(i_in,am_in,rstar,mstar,ρ,hint):\n",
    "    vkx_in=vkx(i_in,am_in)\n",
    "    new=vkx_in+dvx(i_in,am_in,rstar,mstar,ρ,hint)\n",
    "    return new\n",
    "def vky_new(i_in,am_in,rstar,mstar,ρ,hint):\n",
    "    vky_in=vky(i_in,am_in)\n",
    "    new=vky_in-dvy(i_in,am_in,rstar,mstar,ρ,hint)\n",
    "    return new\n",
    "def i_new(i_in,am_in,mstar,rstar,ρ,hint):\n",
    "    new=arctan(vky_new(i_in,am_in,rstar,mstar,ρ,hint)/vkx_new(i_in,am_in,rstar,mstar,ρ,hint))\n",
    "    #print(i_in)\n",
    "    return new\n",
    "\n",
    "def vk_new(i_in,am_in,rstar,mstar,ρ,hint):\n",
    "    new=(((vkx_new(i_in,am_in,rstar,mstar,ρ,hint))**2)+((vky_new(i_in,am_in,rstar,mstar,ρ,hint))**2))**0.5\n",
    "    return new"
   ]
  },
  {
   "cell_type": "code",
   "execution_count": null,
   "metadata": {
    "collapsed": true
   },
   "outputs": [],
   "source": [
    "def n(i,am,rstar,ρstar,hint,ρ): #num orbits assuming constant radius\n",
    "    #num=(vky(i,am)*msun)/(Fy(i,arg,am)*Tdisk(i,arg,am))\n",
    "    #ninv=(3*pi/4)*(ρ(arg)/ρstar(mstar,rstar))*(am/rstar)*sin(i)*arcsin(hint(arg)/(2*am*sin(i)))\n",
    "    ninv=(3*pi/4)*(ρ(am)/ρstar)*(am/rstar)*sin(i)*arcsin(hint(am)/(2*am*sin(i)))\n",
    "    return 1/ninv\n",
    "def Tg(i,am,rstar,ρstar,hint,ρ): #Tg assuming constant radius\n",
    "    t=n(i,am,rstar,ρstar,hint,ρ)*Torb(am)\n",
    "    years=t/year\n",
    "    return years\n",
    "\n",
    "def Tg_a_plot(i,ams,hint,ρ,name): # (a,Tg)\n",
    "    #creating a list of values for Tdisk\n",
    "    Tg1=[]  \n",
    "    for j in range(len(ams)):\n",
    "        Tg1.append(Tg(i,ams[j],rsun,ρsun,hint,ρ))\n",
    "    Tg2=[]\n",
    "    for j in range(len(ams)):\n",
    "        Tg2.append(Tg(i,ams[j],rmstar,ρmstar,hint,ρ))\n",
    "    Tg3=[]\n",
    "    for j in range(len(ams)):\n",
    "        Tg3.append(Tg(i,ams[j],rostar,ρostar,hint,ρ))\n",
    "    Tg4=[]\n",
    "    for j in range(len(ams)):\n",
    "        Tg4.append(Tg(i,ams[j],rrgiant,ρrgiant,hint,ρ))\n",
    "    TentoSix=[]\n",
    "    for j in range(len(ams)):\n",
    "        TentoSix.append(10**6)\n",
    "    TentoEight=[]\n",
    "    for j in range(len(ams)):\n",
    "        TentoEight.append(10**8)\n",
    "    logPlot=plt.gca()\n",
    "    logPlot.loglog(ams/Rg,Tg2,'r--',lw=2, label='M Dwarf',c='palevioletred')\n",
    "    logPlot.loglog(ams/Rg,Tg1,'r-',lw=2,label='G Star',c='palevioletred')\n",
    "    logPlot.loglog(ams/Rg,Tg3,'r--',lw=2,label='O Star',c='darkmagenta')\n",
    "    logPlot.loglog(ams/Rg,Tg4,'r-',lw=2,label='Red Giant',c='darkmagenta')\n",
    "    logPlot.loglog(ams/Rg,TentoEight,'r:',lw=2,label='AGN lifetime',c='black')\n",
    "    logPlot.loglog(ams/Rg,TentoSix,'r:',lw=2,c='black')\n",
    "    plt.title(name+' Grind Time (Tg) vs Radius (a)')\n",
    "    logPlot.set_xlabel('Radius (a) [Rg]')\n",
    "    logPlot.set_ylabel('Grind Time (Tg) [years]')\n",
    "    logPlot.legend()\n",
    "    ax = plt.subplot(111)\n",
    "    ax.legend(loc='center left', bbox_to_anchor=(1, 0.8))\n",
    "    plt.savefig(name+' Tg vs a.pdf')\n",
    "\n",
    "def Tg_i_plot(am,hint,ρ,name): # (i,Tg)\n",
    "    irange=ivals(am,hint)\n",
    "    #creating a list of values for Tdisk\n",
    "    Tg1=[]\n",
    "    for j in range(len(irange)):\n",
    "        Tg1.append(Tg(irange[j],am,rsun,ρsun,hint,ρ))\n",
    "    Tg2=[]\n",
    "    for j in range(len(irange)):\n",
    "        Tg2.append(Tg(irange[j],am,rmstar,ρmstar,hint,ρ))\n",
    "    Tg3=[]\n",
    "    for j in range(len(irange)):\n",
    "        Tg3.append(Tg(irange[j],am,rostar,ρostar,hint,ρ))\n",
    "    Tg4=[]\n",
    "    for j in range(len(irange)):\n",
    "        Tg4.append(Tg(irange[j],am,rrgiant,ρrgiant,hint,ρ))\n",
    "    TentoSix=[]\n",
    "    for j in range(len(irange)):\n",
    "        TentoSix.append(10**6)\n",
    "    TentoEight=[]\n",
    "    for j in range(len(irange)):\n",
    "        TentoEight.append(10**8)\n",
    "    logPlot=plt.gca()\n",
    "    logPlot.semilogy(irange,Tg2,'r--',lw=2, label='M Dwarf',c='palevioletred')\n",
    "    logPlot.semilogy(irange,Tg1,'r-',lw=2, label='G Star',c='palevioletred')\n",
    "    logPlot.semilogy(irange,Tg3,'r--',lw=2,label='O Star',c='darkmagenta')\n",
    "    logPlot.semilogy(irange,Tg4,'r-',lw=2, label='Red Giant',c='darkmagenta')\n",
    "    logPlot.semilogy(irange,TentoEight,'r:',lw=2,label='AGN lifetime',c='black')\n",
    "    logPlot.semilogy(irange,TentoSix,'r:',lw=2,c='black')\n",
    "    plt.title(name+' Grind Time (Tg) vs Initial Inclination Angle (i)')\n",
    "    logPlot.set_xlabel('Initial Inclination Angle (i) [rad]')\n",
    "    logPlot.set_ylabel('Grind Time (Tg) [years]')\n",
    "    logPlot.legend()\n",
    "    ax = plt.subplot(111)\n",
    "    ax.legend(loc='center left', bbox_to_anchor=(1, 0.2))\n",
    "    plt.savefig(name+' Tg vs i.pdf')\n",
    "    #creating a list of values for Tdisk\n",
    "\n",
    "def Tg_a_sBH_plot(i,ams,hint,ρ,name): # (a,Tg)\n",
    "    #creating a list of values for Tdisk\n",
    "    Tg5=[]\n",
    "    for j in range(len(ams)):\n",
    "        Tg5.append(Tg(i,ams[j],rBH(i,ams[j]),ρstar(m_sBH,rBH(i,ams[j])),hint,ρ))\n",
    "    TentoSix=[]\n",
    "    for j in range(len(ams)):\n",
    "        TentoSix.append(10**6)\n",
    "    TentoEight=[]\n",
    "    for j in range(len(ams)):\n",
    "        TentoEight.append(10**8)\n",
    "    logPlot=plt.gca()\n",
    "    logPlot.loglog(ams/Rg,Tg5,'r-',lw=2,label='sBH',c='black')\n",
    "    logPlot.loglog(ams/Rg,TentoEight,'r:',lw=2,c='black')\n",
    "    logPlot.loglog(ams/Rg,TentoSix,'r:',lw=2,c='black')\n",
    "    plt.title(name+' Grind Time (Tg) vs Radius (a)')\n",
    "    logPlot.set_xlabel('$Radius (a) [R_g]$') ###magic (sub g)###############################\n",
    "    logPlot.set_ylabel('Grind Time (Tg) [years]')\n",
    "    logPlot.legend()\n",
    "    ax = plt.subplot(111)\n",
    "    ax.legend(loc='center left', bbox_to_anchor=(1, 0.22))\n",
    "    plt.savefig(name+' Tg vs a of sBH.pdf')\n",
    "\n",
    "def Tg_i_sBH_plot(am,hint,ρ,name): # (i,Tg)\n",
    "    irange=ivals(am,hint)\n",
    "    #creating a list of values for Tdisk\n",
    "    Tg5=[]\n",
    "    for j in range(len(irange)):\n",
    "        Tg5.append(Tg(irange[j],am,rBH(irange[j],am),ρstar(m_sBH,rBH(irange[j],am)),hint,ρ))\n",
    "    TentoSix=[]\n",
    "    for j in range(len(irange)):\n",
    "        TentoSix.append(10**6)\n",
    "    TentoEight=[]\n",
    "    for j in range(len(irange)):\n",
    "        TentoEight.append(10**8)\n",
    "    logPlot=plt.gca()\n",
    "    logPlot.semilogy(irange,Tg5,'r-',lw=2,label='sBH',c='black')\n",
    "    logPlot.semilogy(irange,TentoEight,'r:',lw=2,c='black')\n",
    "    logPlot.semilogy(irange,TentoSix,'r:',lw=2,c='black')\n",
    "    plt.title(name+' Grind Time (Tg) vs Initial Inclination Angle (i)')\n",
    "    logPlot.set_xlabel('Initial Inclination Angle (i) [rad]')\n",
    "    logPlot.set_ylabel('Grind Time (Tg) [years]')\n",
    "    logPlot.legend()\n",
    "    ax = plt.subplot(111)\n",
    "    ax.legend(loc='center left', bbox_to_anchor=(1, 0.22))\n",
    "    plt.savefig(name+' Tg vs i of sBH.pdf')"
   ]
  },
  {
   "cell_type": "code",
   "execution_count": null,
   "metadata": {
    "collapsed": true
   },
   "outputs": [],
   "source": [
    "#Tg assuming changing radius\n",
    "\n",
    "def Tgrind(i,am,mstar,rstar,ρ,hint): \n",
    "    n=0\n",
    "    t_sum=0\n",
    "    initial_i=i\n",
    "    initial_a=am\n",
    "    min_i=imin(am,hint)\n",
    "    new_i=i\n",
    "    new_a=am\n",
    "    condition1=True\n",
    "    condition2=True \n",
    "    condition3=True\n",
    "\n",
    "    while condition1==True and condition2==True: #and condition3==True:\n",
    "        n=n+1\n",
    "        dt=Torb(new_a)/2\n",
    "        t_sum=t_sum+dt\n",
    "        new_i=i_new(initial_i,initial_a,mstar,rstar,ρ,hint)\n",
    "        #new_a=a_new(initial_i,initial_a,mstar,rstar,ρ,hint)\n",
    "        min_i=imin(new_a,hint)\n",
    "        initial_i=new_i\n",
    "        #initial_a=new_a\n",
    "        if new_a<=6*Rg: \n",
    "            condition1=False\n",
    "        if new_i<=min_i:\n",
    "            condition2=False\n",
    "        if new_i<=i/e:\n",
    "            condition3=False\n",
    "        if n%500000==1:\n",
    "            print(\"condition1 =\",condition1,\"condition2 =\",condition2,\"condition3 =\",condition3)\n",
    "            print(\"n =\",n,\"t_sum =\", t_sum, \"seconds\")\n",
    "            print(\"a =\",new_a,\"i =\",new_i)\n",
    "        continue \n",
    "    else:\n",
    "        print(\"condition1 =\",condition1,\"condition2 =\",condition2,\"condition3 =\",condition3)\n",
    "        print(\"final a =\", new_a)\n",
    "        print(\"final i =\", new_i)\n",
    "        print(\"number of passes through disk (n) =\", n)\n",
    "        print(\"grind time =\", t_sum,\"seconds\",\"OR\",t_sum/year,\"years\")\n",
    "        years=t_sum/year\n",
    "        return years"
   ]
  },
  {
   "cell_type": "code",
   "execution_count": null,
   "metadata": {
    "collapsed": true
   },
   "outputs": [],
   "source": [
    "def Tgrind_a_plot(i,ams,ρ,hint,name): # (a,Tg)\n",
    "    #creating a list of values for Tdisk\n",
    "    Tg1=[]  \n",
    "    for j in range(len(ams)):\n",
    "        Tg1.append(Tgrind(i,ams[j],msun,rsun,ρ,hint))\n",
    "    Tg2=[]\n",
    "    for j in range(len(ams)):\n",
    "        Tg2.append(Tgrind(i,ams[j],mmstar,rmstar,ρ,hint))\n",
    "    Tg3=[]\n",
    "    for j in range(len(ams)):\n",
    "        Tg3.append(Tgrind(i,ams[j],mostar,rostar,ρ,hint))\n",
    "    Tg4=[]\n",
    "    for j in range(len(ams)):\n",
    "        Tg4.append(Tgrind(i,ams[j],mrgiant,rrgiant,ρ,hint))\n",
    "    Tg5=[]\n",
    "    for j in range(len(ams)):\n",
    "        Tg5.append(Tgrind(i,ams[j],m_sBH,rBH(i,ams[j]),ρ,hint))\n",
    "    TentoSix=[]\n",
    "    for j in range(len(ams)):\n",
    "        TentoSix.append(10**6)\n",
    "    TentoEight=[]\n",
    "    for j in range(len(ams)):\n",
    "        TentoEight.append(10**8)\n",
    "    logPlot=plt.gca()\n",
    "    logPlot.loglog(ams/Rg,Tg2,'r--',lw=2, label='M Dwarf',c='palevioletred')\n",
    "    logPlot.loglog(ams/Rg,Tg1,'r-',lw=2,label='G Star',c='palevioletred')\n",
    "    logPlot.loglog(ams/Rg,Tg3,'r--',lw=2,label='O Star',c='darkmagenta')\n",
    "    logPlot.loglog(ams/Rg,Tg4,'r-',lw=2,label='Red Giant',c='darkmagenta')\n",
    "    logPlot.loglog(ams/Rg,Tg5,'r-',lw=2,label='sBH',c='black')\n",
    "    logPlot.loglog(ams/Rg,TentoEight,'r:',lw=2,label='AGN lifetime',c='black')\n",
    "    logPlot.loglog(ams/Rg,TentoSix,'r:',lw=2,c='black')\n",
    "    plt.title(name+' Grind Time (Tg) vs Radius (a)')\n",
    "    logPlot.set_xlabel('Radius (a) [Rg]')\n",
    "    logPlot.set_ylabel('Grind Time (Tg) [years]')\n",
    "    logPlot.legend()\n",
    "    ax = plt.subplot(111)\n",
    "    ax.legend(loc='center left', bbox_to_anchor=(1, 0.8))\n",
    "    plt.savefig('new'+name+' Tg vs a.pdf')\n",
    "\n",
    "def Tgrind_i_plot(am,ρ,hint,name): # (i,Tg)  \n",
    "    irange=ivals(am,hint)\n",
    "    #creating a list of values for Tdisk\n",
    "    Tg1=[]\n",
    "    for j in range(len(irange)):\n",
    "        Tg1.append(Tgrind(irange[j],am,msun,rsun,ρ,hint))\n",
    "    Tg2=[]\n",
    "    for j in range(len(irange)):\n",
    "        Tg2.append(Tgrind(irange[j],am,mmstar,rmstar,ρ,hint))\n",
    "    Tg3=[]\n",
    "    for j in range(len(irange)):\n",
    "        Tg3.append(Tgrind(irange[j],am,mostar,rostar,ρ,hint))\n",
    "    Tg4=[]\n",
    "    for j in range(len(irange)):\n",
    "        Tg4.append(Tgrind(irange[j],am,mrgiant,rrgiant,ρ,hint))\n",
    "    Tg5=[]\n",
    "    for j in range(len(irange)):\n",
    "        Tg5.append(Tgrind(irange[j],am,m_sBH,rBH(irange[j],am),ρ,hint))\n",
    "    TentoSix=[]\n",
    "    for j in range(len(irange)):\n",
    "        TentoSix.append(10**6)\n",
    "    TentoEight=[]\n",
    "    for j in range(len(irange)):\n",
    "        TentoEight.append(10**8)\n",
    "    logPlot=plt.gca()\n",
    "    logPlot.semilogy(irange,Tg2,'r--',lw=2, label='M Dwarf',c='palevioletred')\n",
    "    logPlot.semilogy(irange,Tg1,'r-',lw=2, label='G Star',c='palevioletred')\n",
    "    logPlot.semilogy(irange,Tg3,'r--',lw=2,label='O Star',c='darkmagenta')\n",
    "    logPlot.semilogy(irange,Tg4,'r-',lw=2, label='Red Giant',c='darkmagenta')\n",
    "    logPlot.semilogy(irange,Tg5,'r-',lw=2,label='sBH',c='black')\n",
    "    logPlot.semilogy(irange,TentoEight,'r:',lw=2,label='AGN lifetime',c='black')\n",
    "    logPlot.semilogy(irange,TentoSix,'r:',lw=2,c='black')\n",
    "    plt.title(name+' Grind Time (Tg) vs Initial Inclination Angle (i)')\n",
    "    logPlot.set_xlabel('Initial Inclination Angle (i) [rad]')\n",
    "    logPlot.set_ylabel('Grind Time (Tg) [years]')\n",
    "    logPlot.legend()\n",
    "    ax = plt.subplot(111)\n",
    "    ax.legend(loc='center left', bbox_to_anchor=(1, 0.2))\n",
    "    plt.savefig('new'+name+' Tg vs i.pdf')"
   ]
  },
  {
   "cell_type": "code",
   "execution_count": null,
   "metadata": {
    "collapsed": false
   },
   "outputs": [],
   "source": [
    "print(\"initial_a =\", am_TQM[15])\n",
    "print(\"new_a     =\", a_new(pi/2,am_TQM[15],mostar,rostar,ρ_TQM,hint_TQM))\n",
    "print(\"initial_i =\", pi/2)\n",
    "print(\"new_i     =\", i_new(pi/2,am_TQM[15],mostar,rostar,ρ_TQM,hint_TQM))"
   ]
  },
  {
   "cell_type": "code",
   "execution_count": null,
   "metadata": {
    "collapsed": false
   },
   "outputs": [],
   "source": [
    "Tgrind(pi/4,10**5*Rg,mostar,rostar,ρ_TQM,hint_TQM)"
   ]
  },
  {
   "cell_type": "code",
   "execution_count": null,
   "metadata": {
    "collapsed": true
   },
   "outputs": [],
   "source": [
    "print(Tg(pi/4,10**5*Rg,rostar,ρostar,hint_TQM,ρ_TQM))"
   ]
  },
  {
   "cell_type": "code",
   "execution_count": null,
   "metadata": {
    "collapsed": true
   },
   "outputs": [],
   "source": [
    "Tgrind(pi/4,10**4*Rg,mostar,rostar,ρ_SG,hint_SG)"
   ]
  },
  {
   "cell_type": "code",
   "execution_count": null,
   "metadata": {
    "collapsed": true
   },
   "outputs": [],
   "source": [
    "#Tgrind_a_plot(pi/4,am_TQM,ρ_TQM,hint_TQM,'TQM')"
   ]
  },
  {
   "cell_type": "code",
   "execution_count": null,
   "metadata": {
    "collapsed": true
   },
   "outputs": [],
   "source": [
    "#Tgrind_a_plot(pi/4,am_SG,ρ_SG,hint_SG,'SG')"
   ]
  },
  {
   "cell_type": "code",
   "execution_count": null,
   "metadata": {
    "collapsed": true
   },
   "outputs": [],
   "source": [
    "#Tgrind_i_plot(10**4*Rg,ρ_TQM,hint_TQM,'TQM')"
   ]
  },
  {
   "cell_type": "code",
   "execution_count": null,
   "metadata": {
    "collapsed": true
   },
   "outputs": [],
   "source": [
    "#Tgrind_i_plot(10**4*Rg,ρ_SG,hint_SG,'SG')"
   ]
  },
  {
   "cell_type": "code",
   "execution_count": null,
   "metadata": {
    "collapsed": true
   },
   "outputs": [],
   "source": [
    "'''Eorb(am,mstar)\n",
    "\n",
    "Wx(i,am,rstar,ρ,hint)\n",
    "Wy(i,am,rstar,ρ,hint)\n",
    "Worb(i,am,rstar,ρ,hint)\n",
    "\n",
    "newEorb(am,mstar,i,rstar,ρ,hint)\n",
    "\n",
    "a_new(am,mstar,i,rstar,ρ,hint)'''\n",
    "\n",
    "print (ham_TQM[10])\n",
    "print (hint_TQM(am_TQM[10]))\n",
    "print (ρ_TQM(am_TQM[10]))\n",
    "\n",
    "Tdisk(pi/2,am_TQM[15],hint_TQM)"
   ]
  },
  {
   "cell_type": "code",
   "execution_count": null,
   "metadata": {
    "collapsed": true
   },
   "outputs": [],
   "source": [
    "#Eorb(10e4,mostar)\n",
    "\n",
    "#Worb(i,arg,am,rstar,ρ,hint)\n",
    "#Worb(pi/4,10108.843820145905,1516326573021885.8,rostar,3.543866319008235e-08,813641953304.2366)\n",
    "#Wx(pi/4,harg_TQM[10],ham_TQM[10],rostar,ρ_TQM(harg_TQM[10]),hint_TQM(harg_TQM[10]))\n",
    "#Fy(i,am,rstar,ρ)\n",
    "#arc(pi/4,10108.843820145905,1516326573021885.8,813641953304.2366)\n",
    "#Fy(pi/4,1516326573021885.8,rostar,ρ_TQM)\n",
    "\n",
    "#Worb(pi/4,10108.843820145905,1516326573021885.8,rostar,ρ_TQM,hint_TQM)\n",
    "\n",
    "#newEorb(harg_TQM[10],ham_TQM[10],pi/4,mostar,rostar,ρ_TQM,hint_TQM)\n",
    "#a_new(σarg_TQM[10],σam_TQM[10],pi/4,mostar,rostar,ρ_TQM,hint_TQM)\n",
    "n(pi/4,10108.843820145905,1516326573021885.8,rostar,ρostar,hint_TQM,ρ_TQM)"
   ]
  },
  {
   "cell_type": "code",
   "execution_count": null,
   "metadata": {
    "collapsed": true
   },
   "outputs": [],
   "source": [
    "# mass of disk as a function of radius\n",
    "\n",
    "def m_TQM(am): #creating a mass function m with respect to radius in rg\n",
    "    mcal=σint_TQM(am)*((hint_TQM(am)*100)**2) #converting h from m to cm #so mcal is in g\n",
    "    mconv=mcal/(10**3) # convert mcal from g to kg\n",
    "    return mconv\n",
    "def m_SG(am): #creating a mass function m with respect to radius in rg\n",
    "    mcal=σint_SG(am)*((hint_SG(am)*100)**2) #converting h from m to cm #so mcal is in g\n",
    "    mconv=mcal/(10**3) # convert mcal from g to kg\n",
    "    return mconv\n",
    "def m_plot(): # (a,m)\n",
    "    #creating a list of values for mass m\n",
    "    mass_TQM=[]\n",
    "    for i in range(len(harg_TQM)):\n",
    "        mass_TQM.append(m_TQM(harg_TQM[i]))\n",
    "    mass_SG=[]\n",
    "    for i in range(len(σarg_SG)):\n",
    "        mass_SG.append(m_SG(σarg_SG[i]))\n",
    "    logPlot=plt.gca()\n",
    "    logPlot.loglog(harg_TQM,mass_TQM,lw=2,label='TQM',c='r')\n",
    "    logPlot.loglog(σarg_SG,mass_SG,lw=2,label='SG',c='b')\n",
    "    plt.title('Mass of Disk (m) vs Radius (a)')\n",
    "    logPlot.set_xlabel('Radius [Rg]')\n",
    "    logPlot.set_ylabel('Mass [kg]')\n",
    "    logPlot.legend()\n",
    "    ax = plt.subplot(111)\n",
    "    ax.legend(loc='center left', bbox_to_anchor=(0.75,0.9))\n",
    "    plt.savefig('5 Mass vs a.pdf')"
   ]
  },
  {
   "cell_type": "code",
   "execution_count": null,
   "metadata": {
    "collapsed": true
   },
   "outputs": [],
   "source": [
    "# Graviational force\n",
    "def Fg_TQM(m_obj,am,dist):#N (kgm/s^2)\n",
    "    force=(G*m_obj*m_TQM(am))/(dist**2)\n",
    "    return force\n",
    "\n",
    "def Fg_SG(m_obj,am,dist):#N (kgm/s^2)\n",
    "    force=(G*m_obj*m_SG(am))/(dist**2)\n",
    "    return force"
   ]
  },
  {
   "cell_type": "code",
   "execution_count": null,
   "metadata": {
    "collapsed": true
   },
   "outputs": [],
   "source": [
    "Fg_TQM(m_sBH,10e4*Rg,10e12)"
   ]
  },
  {
   "cell_type": "code",
   "execution_count": null,
   "metadata": {
    "collapsed": true
   },
   "outputs": [],
   "source": [
    "Fg_SG(m_sBH,10e4*Rg,10e12)"
   ]
  },
  {
   "cell_type": "code",
   "execution_count": null,
   "metadata": {
    "collapsed": true
   },
   "outputs": [],
   "source": [
    "Tg_a_plot(pi/4,σam_TQM,hint_TQM,ρ_TQM,'TQM')\n",
    "Tg_a_sBH_plot(pi/4,σam_TQM,hint_TQM,ρ_TQM,'TQM')"
   ]
  },
  {
   "cell_type": "code",
   "execution_count": null,
   "metadata": {
    "collapsed": true
   },
   "outputs": [],
   "source": [
    "Tg_i_plot(10**4*Rg,hint_TQM,ρ_TQM,'TQM')\n",
    "Tg_i_sBH_plot(10**4*Rg,hint_TQM,ρ_TQM,'TQM')"
   ]
  },
  {
   "cell_type": "code",
   "execution_count": null,
   "metadata": {
    "collapsed": true
   },
   "outputs": [],
   "source": [
    "Tg_a_plot(pi/4,σam_SG,hint_SG,ρ_SG,'SG')\n",
    "Tg_a_sBH_plot(pi/4,σam_SG,hint_SG,ρ_SG,'SG')"
   ]
  },
  {
   "cell_type": "code",
   "execution_count": null,
   "metadata": {
    "collapsed": true
   },
   "outputs": [],
   "source": [
    "Tg_i_plot(10**4*Rg,hint_SG,ρ_SG,'SG')\n",
    "Tg_i_sBH_plot(10**4*Rg,hint_SG,ρ_SG,'SG')"
   ]
  },
  {
   "cell_type": "code",
   "execution_count": null,
   "metadata": {
    "collapsed": true
   },
   "outputs": [],
   "source": [
    "def E_star(mstar,am): #total Energy\n",
    "    K=0.5*mstar*(vel(am)**2)\n",
    "    U=G*M*mstar/am\n",
    "    print('k=',K)\n",
    "    print('u=',U)"
   ]
  },
  {
   "cell_type": "code",
   "execution_count": null,
   "metadata": {
    "collapsed": true
   },
   "outputs": [],
   "source": [
    "E_star(msun,1000)"
   ]
  },
  {
   "cell_type": "code",
   "execution_count": null,
   "metadata": {
    "collapsed": true
   },
   "outputs": [],
   "source": [
    "Eorb(1000,msun)**2"
   ]
  },
  {
   "cell_type": "code",
   "execution_count": null,
   "metadata": {
    "collapsed": true
   },
   "outputs": [],
   "source": [
    "rBH(pi/4,(10**4)*Rg)y"
   ]
  },
  {
   "cell_type": "code",
   "execution_count": null,
   "metadata": {
    "collapsed": true
   },
   "outputs": [],
   "source": [
    "samp_args=[]\n",
    "for i in range(9):\n",
    "    samp_args.append((i+1)*10**2)\n",
    "for i in range(9):\n",
    "    samp_args.append((i+1)*10**3)\n",
    "for i in range(9):\n",
    "    samp_args.append((i+1)*10**4)\n",
    "for i in range(9):\n",
    "    samp_args.append((i+1)*10**5)\n",
    "for i in range(9):\n",
    "    samp_args.append((i+1)*10**6)\n",
    "for i in range(4):\n",
    "    samp_args.append((i+1)*10**7)\n",
    "    \n",
    "samp_ams=[]\n",
    "for i in range(len(samp_args)):\n",
    "    samp_ams.append(samp_args[i]*Rg)"
   ]
  },
  {
   "cell_type": "code",
   "execution_count": null,
   "metadata": {
    "collapsed": true
   },
   "outputs": [],
   "source": [
    "arg_=[1.00552700e+01,1.37069799e+01,1.75599452e+01,2.20353040e+01,2.94171160e+01,4.17739144e+01,5.81105952e+01,7.75685071e+01,9.53355951e+01,1.19627381e+02,1.41094721e+02,1.77070986e+02,2.13267722e+02,2.62245907e+02,3.15891093e+02,3.72665704e+02,4.48772088e+02,5.51589336e+02,6.37236074e+02,7.67085479e+02,9.82317660e+02,1.20714788e+03,1.45340076e+03,1.67927110e+03,2.10740141e+03,2.53786758e+03,3.12022799e+03,3.60598266e+03,4.52750494e+03,6.04854204e+03,1.30051044e+04,4.14286993e+04,1.40421962e+05,3.95102292e+05,9.61790620e+05,4.53906956e+06]\n",
    "ρden_SG=[]\n",
    "for i in range(len(arg_)):\n",
    "    ρden_SG.append(ρ_SG(arg_[i]))"
   ]
  },
  {
   "cell_type": "code",
   "execution_count": null,
   "metadata": {
    "collapsed": true
   },
   "outputs": [],
   "source": [
    "harg_TQM"
   ]
  },
  {
   "cell_type": "code",
   "execution_count": null,
   "metadata": {
    "collapsed": true
   },
   "outputs": [],
   "source": [
    "def rratio(i,am,rstar,ρstar,hint,ρ): #num orbits assuming constant radius\n",
    "    ratio=1/(am/rstar)\n",
    "    return ratio\n",
    "def ρratio(i,am,rstar,ρstar,hint,ρ): #num orbits assuming constant radius\n",
    "    ratio=1/(ρ(am)/ρstar)\n",
    "    return ratio\n",
    "print(rratio(pi/4,10**4*Rg,rsun,ρsun,hint_SG,ρ_SG))\n",
    "print(ρratio(pi/4,10**4*Rg,rsun,ρsun,hint_SG,ρ_SG))\n",
    "sin(pi/4)\n",
    "hint_SG(10**4*Rg)/(10**4*Rg)\n",
    "Torb(10**4*Rg/year)\n",
    "print(year)"
   ]
  },
  {
   "cell_type": "code",
   "execution_count": null,
   "metadata": {
    "collapsed": true
   },
   "outputs": [],
   "source": []
  },
  {
   "cell_type": "code",
   "execution_count": null,
   "metadata": {
    "collapsed": true
   },
   "outputs": [],
   "source": [
    "vrx(pi/2,10**7*Rg)"
   ]
  },
  {
   "cell_type": "code",
   "execution_count": null,
   "metadata": {
    "collapsed": true
   },
   "outputs": [],
   "source": [
    "vkx(pi/2,10**7*Rg)"
   ]
  },
  {
   "cell_type": "code",
   "execution_count": null,
   "metadata": {
    "collapsed": true
   },
   "outputs": [],
   "source": [
    "vel(10**7*Rg)"
   ]
  },
  {
   "cell_type": "code",
   "execution_count": null,
   "metadata": {
    "collapsed": true
   },
   "outputs": [],
   "source": []
  },
  {
   "cell_type": "code",
   "execution_count": null,
   "metadata": {
    "collapsed": true
   },
   "outputs": [],
   "source": []
  }
 ],
 "metadata": {
  "anaconda-cloud": {},
  "kernelspec": {
   "display_name": "Python 3",
   "language": "python",
   "name": "python3"
  },
  "language_info": {
   "codemirror_mode": {
    "name": "ipython",
    "version": 3
   },
   "file_extension": ".py",
   "mimetype": "text/x-python",
   "name": "python",
   "nbconvert_exporter": "python",
   "pygments_lexer": "ipython3",
   "version": "3.6.5"
  }
 },
 "nbformat": 4,
 "nbformat_minor": 1
}
